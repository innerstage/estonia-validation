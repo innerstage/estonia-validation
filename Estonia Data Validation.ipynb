{
 "cells": [
  {
   "cell_type": "markdown",
   "metadata": {},
   "source": [
    "# Estonia Data Validation\n",
    "Any questions regarding differences in data will be addressed here. In order to compare faster, we will only use the values of products exported to Finland during 2017.\n",
    "\n",
    "### 1. Data from Estonia API\n",
    "The data files will be downloaded directly from the Statistics Estonia API. "
   ]
  },
  {
   "cell_type": "code",
   "execution_count": 3,
   "metadata": {},
   "outputs": [
    {
     "name": "stdout",
     "output_type": "stream",
     "text": [
      "TOTAL: $2,075,813,064 EUR\n",
      "HS2 Sum: $2,075,813,061 EUR\n",
      "HS4 Sum: $1,852,187,796 EUR\n",
      "HS6 Sum: $1,852,187,806 EUR\n",
      "HS8 Sum: $1,852,187,835 EUR\n"
     ]
    }
   ],
   "source": [
    "from IPython.display import Image\n",
    "import pandas as pd\n",
    "import requests\n",
    "import json\n",
    "import os\n",
    "\n",
    "url = \"http://andmebaas.stat.ee/sdmx-json/data/VK10_2/TRD_VAL.EXP..FI.A/all?startTime=2017&endTime=2017&dimensionAtObservation=allDimensions\"\n",
    "\n",
    "if \"finland_exports.json\" not in os.listdir():\n",
    "    cube = requests.get(url)\n",
    "    with open(\"finland_exports.json\", \"w\") as file:\n",
    "        file.write(cube.text)\n",
    "        cube = json.loads(file.read())\n",
    "        \n",
    "else:\n",
    "    with open(\"finland_exports.json\") as file:\n",
    "        cube = json.loads(file.read())\n",
    "\n",
    "# Dictionary of Products\n",
    "\n",
    "prod = {}\n",
    "a = 0\n",
    "for p in cube[\"structure\"][\"dimensions\"][\"observation\"][2][\"values\"]:\n",
    "    prod[str(a)] = p[\"id\"]\n",
    "    a += 1\n",
    "\n",
    "# Dataframe Creation\n",
    "\n",
    "products = []\n",
    "totals = []\n",
    "for key in cube[\"dataSets\"][0][\"observations\"]:\n",
    "    products.append(key.split(\":\")[2])\n",
    "    totals.append(int(cube[\"dataSets\"][0][\"observations\"][key][0]))\n",
    "    \n",
    "df = pd.DataFrame({\"product\": products, \"total\": totals})\n",
    "\n",
    "# Mapping\n",
    "\n",
    "df[\"product\"] = df[\"product\"].map(prod)\n",
    "\n",
    "# Querying\n",
    "\n",
    "print(\"TOTAL: \" + \"$\" + \"{:,}\".format(df[df[\"product\"] == \"TOTAL\"][\"total\"].sum()) + \" EUR\")\n",
    "print(\"HS2 Sum: \" + \"$\" + \"{:,}\".format(df[(~ df[\"product\"].str.isalpha()) & (df[\"product\"].str.len() == 4)][\"total\"].sum()) + \" EUR\")\n",
    "print(\"HS4 Sum: \" + \"$\" + \"{:,}\".format(df[(~ df[\"product\"].str.isalpha()) & (df[\"product\"].str.len() == 6)][\"total\"].sum()) + \" EUR\")\n",
    "print(\"HS6 Sum: \" + \"$\" + \"{:,}\".format(df[(~ df[\"product\"].str.isalpha()) & (df[\"product\"].str.len() == 8)][\"total\"].sum()) + \" EUR\")\n",
    "print(\"HS8 Sum: \" + \"$\" + \"{:,}\".format(df[(~ df[\"product\"].str.isalpha()) & (df[\"product\"].str.len() == 10)][\"total\"].sum()) + \" EUR\")"
   ]
  },
  {
   "cell_type": "markdown",
   "metadata": {},
   "source": [
    "The Statistics Estonia site shows $2,075,813,064 EUR as the total value, so the values on the API and SE site match.\n",
    "\n",
    "### 2. Data from Database in Estonia Production Server\n",
    "The data files will be downloaded from the Tesseract API in https://data.stat.ee. The querys will have drilldowns by each product level and by country."
   ]
  },
  {
   "cell_type": "code",
   "execution_count": 4,
   "metadata": {},
   "outputs": [
    {
     "name": "stdout",
     "output_type": "stream",
     "text": [
      "HS2 Sum: $1,852,187,989 EUR\n",
      "HS4 Sum: $1,852,187,989 EUR\n",
      "HS6 Sum: $1,852,187,989 EUR\n",
      "Country Sum: $1,852,187,989 EUR\n"
     ]
    }
   ],
   "source": [
    "import pandas as pd\n",
    "import requests\n",
    "import json\n",
    "import os\n",
    "\n",
    "urls = {\"HS2\": \"https://data.stat.ee/tesseract/data?cube=exports_and_imports&Year=2017&Flow=1&Country=fi&drilldowns=HS2&measures=Total\",\n",
    "        \"HS4\": \"https://data.stat.ee/tesseract/data?cube=exports_and_imports&Year=2017&Flow=1&Country=fi&drilldowns=HS4&measures=Total\",\n",
    "        \"HS6\": \"https://data.stat.ee/tesseract/data?cube=exports_and_imports&Year=2017&Flow=1&Country=fi&drilldowns=HS6&measures=Total\",\n",
    "        \"Country\": \"https://data.stat.ee/tesseract/data?cube=exports_and_imports&Year=2017&Flow=1&drilldowns=Country&measures=Total\"}\n",
    "\n",
    "for level in [\"HS2\", \"HS4\", \"HS6\", \"Country\"]:\n",
    "    query = requests.get(urls[level])\n",
    "    query = json.loads(query.text)\n",
    "    \n",
    "    if level == \"Country\":\n",
    "        vec = []\n",
    "        for key in query[\"data\"]:\n",
    "            if key[\"Country ID\"] == \"fi\":\n",
    "                vec.append(int(key[\"Total\"]))\n",
    "    \n",
    "    else:\n",
    "        vec = []\n",
    "        for key in query[\"data\"]:\n",
    "            vec.append(int(key[\"Total\"]))\n",
    "    \n",
    "    print(level + \" Sum: \" + \"$\" + \"{:,}\".format(sum(vec)) + \" EUR\")"
   ]
  },
  {
   "cell_type": "markdown",
   "metadata": {},
   "source": [
    "We can see that the values match between them, but don't match with the values from the Estonia API. (This step will be checked in the Bamboo script).\n",
    "\n",
    "* Update 05/13/2019: The previous database was built with old files. These json files were downloaded again and now the values are the same.\n",
    "\n",
    "### 3. Data from the Front End in the TradeEstonia Site\n",
    "\n",
    "The total in the TradeEstonia Site shows \"3,55B\" or approximately $3,550,000,000 EUR\n",
    "\n",
    "![TradeEstonia](TradeEstonia.png)\n",
    "\n",
    "### 4. Data from OEC\n",
    "\n",
    "The total in the OEC Site shows \"1,81B\" or approximately $1,810,000,000 EUR\n",
    "\n",
    "![OEC](OEC.png)"
   ]
  },
  {
   "cell_type": "code",
   "execution_count": null,
   "metadata": {},
   "outputs": [],
   "source": []
  }
 ],
 "metadata": {
  "kernelspec": {
   "display_name": "Python 3",
   "language": "python",
   "name": "python3"
  },
  "language_info": {
   "codemirror_mode": {
    "name": "ipython",
    "version": 3
   },
   "file_extension": ".py",
   "mimetype": "text/x-python",
   "name": "python",
   "nbconvert_exporter": "python",
   "pygments_lexer": "ipython3",
   "version": "3.7.0"
  }
 },
 "nbformat": 4,
 "nbformat_minor": 2
}
